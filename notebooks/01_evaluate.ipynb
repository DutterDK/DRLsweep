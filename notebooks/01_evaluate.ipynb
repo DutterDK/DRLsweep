{
  "cells": [
    {
      "cell_type": "code",
      "execution_count": null,
      "metadata": {
        "vscode": {
          "languageId": "plaintext"
        }
      },
      "outputs": [],
      "source": [
        "# DRL Liquidity Sweep - Model Evaluation\n",
        "\n",
        "This notebook visualizes the results of a trained model's performance on test data.\n"
      ]
    },
    {
      "cell_type": "code",
      "execution_count": null,
      "metadata": {},
      "outputs": [],
      "source": [
        "import json\n",
        "from pathlib import Path\n",
        "\n",
        "import numpy as np\n",
        "import pandas as pd\n",
        "import plotly.graph_objects as go\n",
        "from plotly.subplots import make_subplots\n"
      ]
    },
    {
      "cell_type": "code",
      "execution_count": null,
      "metadata": {},
      "outputs": [],
      "source": [
        "## Load Evaluation Results\n",
        "\n",
        "First, let's load the results from our evaluation run.\n"
      ]
    },
    {
      "cell_type": "code",
      "execution_count": null,
      "metadata": {},
      "outputs": [],
      "source": [
        "# Update these paths to match your evaluation output\n",
        "EVAL_DIR = Path(\"../logs/evaluation\")\n",
        "\n",
        "# Load metrics\n",
        "with open(EVAL_DIR / \"metrics.json\") as f:\n",
        "    metrics = json.load(f)\n",
        "    \n",
        "# Load equity curve\n",
        "equity_df = pd.read_csv(EVAL_DIR / \"equity.csv\")\n",
        "equity_df[\"time\"] = pd.to_datetime(equity_df[\"time\"])\n",
        "\n",
        "# Load trades\n",
        "trades_df = pd.read_csv(EVAL_DIR / \"trades.csv\")\n",
        "trades_df[\"entry_time\"] = pd.to_datetime(trades_df[\"entry_time\"])\n",
        "trades_df[\"exit_time\"] = pd.to_datetime(trades_df[\"exit_time\"])\n"
      ]
    },
    {
      "cell_type": "code",
      "execution_count": null,
      "metadata": {},
      "outputs": [],
      "source": [
        "## Performance Metrics\n",
        "\n",
        "Let's look at the key performance metrics.\n"
      ]
    },
    {
      "cell_type": "code",
      "execution_count": null,
      "metadata": {},
      "outputs": [],
      "source": [
        "print(\"Performance Metrics:\")\n",
        "print(f\"Total Return: {metrics['total_return']:.2%}\")\n",
        "print(f\"Sharpe Ratio: {metrics['sharpe_ratio']:.2f}\")\n",
        "print(f\"Sortino Ratio: {metrics['sortino_ratio']:.2f}\")\n",
        "print(f\"MAR Ratio: {metrics['mar_ratio']:.2f}\")\n",
        "print(f\"\\nTrade Statistics:\")\n",
        "print(f\"Total Trades: {metrics['total_trades']}\")\n",
        "print(f\"Win Rate: {metrics['win_rate']:.2%}\")\n",
        "print(f\"Average Win: {metrics['avg_win']:.4f}\")\n",
        "print(f\"Average Loss: {metrics['avg_loss']:.4f}\")\n",
        "print(f\"Profit Factor: {metrics['profit_factor']:.2f}\")\n"
      ]
    },
    {
      "cell_type": "code",
      "execution_count": null,
      "metadata": {},
      "outputs": [],
      "source": [
        "## Equity Curve and Drawdown\n",
        "\n",
        "Let's plot the equity curve and underwater drawdown chart.\n"
      ]
    },
    {
      "cell_type": "code",
      "execution_count": null,
      "metadata": {},
      "outputs": [],
      "source": [
        "# Calculate drawdown\n",
        "rolling_max = equity_df[\"equity\"].expanding().max()\n",
        "drawdown = (equity_df[\"equity\"] - rolling_max) / rolling_max\n",
        "\n",
        "# Create subplot figure\n",
        "fig = make_subplots(rows=2, cols=1, shared_xaxes=True,\n",
        "                    subplot_titles=(\"Equity Curve\", \"Drawdown\"),\n",
        "                    vertical_spacing=0.1,\n",
        "                    row_heights=[0.7, 0.3])\n",
        "\n",
        "# Add equity curve\n",
        "fig.add_trace(\n",
        "    go.Scatter(x=equity_df[\"time\"], y=equity_df[\"equity\"],\n",
        "               name=\"Equity\", line=dict(color=\"blue\")),\n",
        "    row=1, col=1\n",
        ")\n",
        "\n",
        "# Add drawdown\n",
        "fig.add_trace(\n",
        "    go.Scatter(x=equity_df[\"time\"], y=drawdown,\n",
        "               name=\"Drawdown\", fill=\"tonexty\",\n",
        "               line=dict(color=\"red\")),\n",
        "    row=2, col=1\n",
        ")\n",
        "\n",
        "fig.update_layout(\n",
        "    height=800,\n",
        "    showlegend=True,\n",
        "    title_text=\"Portfolio Performance\"\n",
        ")\n",
        "\n",
        "fig.show()\n"
      ]
    },
    {
      "cell_type": "code",
      "execution_count": null,
      "metadata": {},
      "outputs": [],
      "source": [
        "## Attribution Analysis\n",
        "\n",
        "Let's analyze performance by instrument.\n"
      ]
    },
    {
      "cell_type": "code",
      "execution_count": null,
      "metadata": {},
      "outputs": [],
      "source": [
        "# Create attribution bar chart\n",
        "attribution = pd.DataFrame(metrics[\"attribution\"]).T\n",
        "\n",
        "fig = go.Figure()\n",
        "\n",
        "# Add total P&L bars\n",
        "fig.add_trace(\n",
        "    go.Bar(x=attribution.index, y=attribution[\"sum\"],\n",
        "           name=\"Total P&L\")\n",
        ")\n",
        "\n",
        "# Add trade count bars\n",
        "fig.add_trace(\n",
        "    go.Bar(x=attribution.index, y=attribution[\"count\"],\n",
        "           name=\"Trade Count\", yaxis=\"y2\")\n",
        ")\n",
        "\n",
        "fig.update_layout(\n",
        "    title=\"Performance Attribution by Instrument\",\n",
        "    yaxis=dict(title=\"Total P&L\"),\n",
        "    yaxis2=dict(title=\"Trade Count\", overlaying=\"y\", side=\"right\"),\n",
        "    barmode=\"group\"\n",
        ")\n",
        "\n",
        "fig.show()\n"
      ]
    },
    {
      "cell_type": "code",
      "execution_count": null,
      "metadata": {},
      "outputs": [],
      "source": [
        "## Trade Distribution\n",
        "\n",
        "Finally, let's look at the distribution of trade P&Ls.\n"
      ]
    },
    {
      "cell_type": "code",
      "execution_count": null,
      "metadata": {},
      "outputs": [],
      "source": [
        "fig = go.Figure()\n",
        "\n",
        "fig.add_trace(\n",
        "    go.Histogram(x=trades_df[\"pnl\"], nbinsx=50,\n",
        "                 name=\"Trade P&L Distribution\")\n",
        ")\n",
        "\n",
        "fig.update_layout(\n",
        "    title=\"Distribution of Trade P&Ls\",\n",
        "    xaxis_title=\"P&L\",\n",
        "    yaxis_title=\"Count\",\n",
        "    showlegend=True\n",
        ")\n",
        "\n",
        "fig.show()\n"
      ]
    }
  ],
  "metadata": {
    "language_info": {
      "name": "python"
    }
  },
  "nbformat": 4,
  "nbformat_minor": 2
}
